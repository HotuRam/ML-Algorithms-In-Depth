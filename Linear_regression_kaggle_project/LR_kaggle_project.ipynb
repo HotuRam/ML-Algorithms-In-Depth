{
  "cells": [
    {
      "cell_type": "code",
      "execution_count": 1,
      "source": [
        "1+1"
      ],
      "outputs": [
        {
          "output_type": "execute_result",
          "data": {
            "text/plain": [
              "2"
            ]
          },
          "metadata": {},
          "execution_count": 1
        }
      ],
      "metadata": {}
    },
    {
      "cell_type": "code",
      "execution_count": null,
      "source": [],
      "outputs": [],
      "metadata": {}
    }
  ],
  "metadata": {
    "orig_nbformat": 4,
    "language_info": {
      "name": "python",
      "version": "3.7.11",
      "mimetype": "text/x-python",
      "codemirror_mode": {
        "name": "ipython",
        "version": 3
      },
      "pygments_lexer": "ipython3",
      "nbconvert_exporter": "python",
      "file_extension": ".py"
    },
    "kernelspec": {
      "name": "python3",
      "display_name": "Python 3.7.11 64-bit ('credit': conda)"
    },
    "interpreter": {
      "hash": "3f2cce15f9523cc617e64d766c0d361895395c2a3bc5a1750d152f120ce34420"
    }
  },
  "nbformat": 4,
  "nbformat_minor": 2
}