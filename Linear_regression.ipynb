{
 "cells": [
  {
   "cell_type": "markdown",
   "source": [
    "# Linear Regression In depth"
   ],
   "metadata": {}
  },
  {
   "cell_type": "code",
   "execution_count": 2,
   "source": [
    "1+1"
   ],
   "outputs": [
    {
     "output_type": "execute_result",
     "data": {
      "text/plain": [
       "2"
      ]
     },
     "metadata": {},
     "execution_count": 2
    }
   ],
   "metadata": {}
  },
  {
   "cell_type": "code",
   "execution_count": 12,
   "source": [
    "%matplotlib inline\r\n",
    "import warnings\r\n",
    "warnings.filterwarnings('ignore')\r\n",
    "import matplotlib.pyplot as plt\r\n",
    "import pandas as pd\r\n",
    "import numpy as np \r\n",
    "import seaborn as sns ; sns.set()\r\n"
   ],
   "outputs": [],
   "metadata": {}
  },
  {
   "cell_type": "code",
   "execution_count": 14,
   "source": [
    "rng= np.random.RandomState(1)\r\n",
    "x= 10*rng.rand(50)\r\n",
    "y= 2*x-5+ rng.randn(50)\r\n",
    "plt.scatter(x,y);"
   ],
   "outputs": [
    {
     "output_type": "display_data",
     "data": {
      "image/png": "[encoded data removed]",
      "text/plain": [
       "<Figure size 432x288 with 1 Axes>"
      ]
     },
     "metadata": {}
    }
   ],
   "metadata": {}
  },
  {
   "cell_type": "code",
   "execution_count": null,
   "source": [],
   "outputs": [],
   "metadata": {}
  }
 ],
 "metadata": {
  "orig_nbformat": 4,
  "language_info": {
   "name": "python",
   "version": "3.7.11",
   "mimetype": "text/x-python",
   "codemirror_mode": {
    "name": "ipython",
    "version": 3
   },
   "pygments_lexer": "ipython3",
   "nbconvert_exporter": "python",
   "file_extension": ".py"
  },
  "kernelspec": {
   "name": "python3",
   "display_name": "Python 3.7.11 64-bit ('credit': conda)"
  },
  "interpreter": {
   "hash": "3f2cce15f9523cc617e64d766c0d361895395c2a3bc5a1750d152f120ce34420"
  }
 },
 "nbformat": 4,
 "nbformat_minor": 2
}